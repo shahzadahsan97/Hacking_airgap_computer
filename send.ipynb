{
 "cells": [
  {
   "cell_type": "code",
   "execution_count": null,
   "metadata": {},
   "outputs": [
    {
     "name": "stdout",
     "output_type": "stream",
     "text": [
      "Welcome . Use ctrl-c to exit\n"
     ]
    }
   ],
   "source": [
    "import sys\n",
    "import pyaudio\n",
    "import math_work\n",
    "import options\n",
    "import psk\n",
    "\n",
    "FORMAT = pyaudio.paInt16\n",
    "CHANNELS = options.channels\n",
    "RATE = options.rate\n",
    "FREQ = options.freq\n",
    "FREQ_OFF = 0\n",
    "FRAME_LENGTH = options.frame_length\n",
    "DATASIZE = options.datasize\n",
    "\n",
    "p = pyaudio.PyAudio()\n",
    "stream = p.open(format=FORMAT, channels=CHANNELS, rate=RATE, output=True)\n",
    "\n",
    "user_input = input if sys.version_info.major >= 3 else raw_input\n",
    "\n",
    "def make_buffer_from_bit_pattern(pattern, on_freq, off_freq):\n",
    "    \"\"\" Takes a pattern and returns an audio buffer that encodes that pattern \"\"\"\n",
    "    # the key's middle value is the bit's value and the left and right bits are the bits before and after\n",
    "    # the buffers are enveloped to cleanly blend into each other\n",
    "\n",
    "    last_bit = pattern[-1]\n",
    "    output_buffer = []\n",
    "    offset = 0\n",
    "\n",
    "    for i in range(len(pattern)):\n",
    "        bit = pattern[i]\n",
    "        if i < len(pattern) - 1:\n",
    "            next_bit = pattern[i+1]\n",
    "        else:\n",
    "            next_bit = pattern[0]\n",
    "\n",
    "        freq = on_freq if bit == '1' else off_freq\n",
    "        tone = math_work.tone(freq, DATASIZE, offset=offset)\n",
    "        output_buffer += math_work.envelope(tone, left=last_bit=='0', right=next_bit=='0')\n",
    "        offset += DATASIZE\n",
    "        last_bit = bit\n",
    "\n",
    "    return math_work.pack_buffer(output_buffer)\n",
    "\n",
    "def play_buffer(buffer):\n",
    "    output = b''.join(buffer)\n",
    "    stream.write(output)\n",
    "\n",
    "if __name__ == \"__main__\":\n",
    "    print(\"Welcome . Use ctrl-c to exit\")\n",
    "\n",
    "    try:\n",
    "        # get user input and play message\n",
    "        while True:\n",
    "            message = user_input(\"> \")\n",
    "            try:\n",
    "              pattern = psk.encode(message)\n",
    "              buffer = make_buffer_from_bit_pattern(pattern, FREQ, FREQ_OFF)\n",
    "              play_buffer(buffer)\n",
    "            except KeyError:\n",
    "              print(\"Messages may only contain printable ASCII characters.\")\n",
    "    except KeyboardInterrupt:\n",
    "        # clean up our streams and exit\n",
    "        stream.stop_stream()\n",
    "        stream.close()\n",
    "        p.terminate()"
   ]
  },
  {
   "cell_type": "code",
   "execution_count": null,
   "metadata": {},
   "outputs": [],
   "source": []
  }
 ],
 "metadata": {
  "kernelspec": {
   "display_name": "Python 3",
   "language": "python",
   "name": "python3"
  },
  "language_info": {
   "codemirror_mode": {
    "name": "ipython",
    "version": 3
   },
   "file_extension": ".py",
   "mimetype": "text/x-python",
   "name": "python",
   "nbconvert_exporter": "python",
   "pygments_lexer": "ipython3",
   "version": "3.6.4"
  }
 },
 "nbformat": 4,
 "nbformat_minor": 2
}
